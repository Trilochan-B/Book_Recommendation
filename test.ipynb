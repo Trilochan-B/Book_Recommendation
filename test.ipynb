{
 "cells": [
  {
   "cell_type": "code",
   "execution_count": 2,
   "metadata": {},
   "outputs": [
    {
     "name": "stdout",
     "output_type": "stream",
     "text": [
      "(300, 21)\n"
     ]
    }
   ],
   "source": [
    "import pandas as pd\n",
    "import numpy as np\n",
    "\n",
    "sheet_name='1tbfGZwiIMCaKZ3dxa9z3yAt6-lalIxHz4-TSnQzjE98'\n",
    "df= pd.read_csv(f\"https://docs.google.com/spreadsheets/d/{sheet_name}/export?format=csv\")\n",
    "# print(df.info())\n",
    "df.dropna(inplace=True)\n",
    "print(df.shape)\n"
   ]
  },
  {
   "cell_type": "code",
   "execution_count": 13,
   "metadata": {},
   "outputs": [
    {
     "data": {
      "text/plain": [
       "BOOK ID                                                              56\n",
       "NAME OF THE AUTHOR                                    A.P.J Abdul Kalam\n",
       "NAME OF THE BOOK                         Wings Of Fire:An Autobiography\n",
       "IMAGE URL             https://upload.wikimedia.org/wikipedia/en/3/3a...\n",
       "Rating                                                                4\n",
       "Price                                                               878\n",
       "Name: 55, dtype: object"
      ]
     },
     "execution_count": 13,
     "metadata": {},
     "output_type": "execute_result"
    }
   ],
   "source": [
    "import joblib as jb\n",
    "import numpy as np\n",
    "import pandas as pd\n",
    "\n",
    "book = jb.load('res/BookName')\n",
    "model = jb.load('res/BookModel') \n",
    "feature = jb.load('res/BookFeature')\n",
    "# if True in book['NAME OF THE BOOK'].duplicated():\n",
    "#     print(\"present\")\n",
    "book.loc[55,'NAME OF THE AUTHOR'] ='A.P.J Abdul Kalam'\n",
    "book.iloc[55,:]"
   ]
  },
  {
   "cell_type": "code",
   "execution_count": 4,
   "metadata": {},
   "outputs": [],
   "source": [
    "def recm(name, num, b_name, model, feature):\n",
    "    r_link=[]\n",
    "    r_name=[]\n",
    "    ind = np.where(b_name['NAME OF THE BOOK'] == name)[0][0]\n",
    "    dist,suggestion = model.kneighbors(feature.iloc[ind,:].values.reshape(1,-1), n_neighbors=num)\n",
    "    for i in suggestion[0]:\n",
    "        r_name.append(b_name['NAME OF THE BOOK'][i])\n",
    "        r_link.append(b_name['IMAGE URL'][i])\n",
    "    return r_name,r_link\n",
    "\n",
    "name,link=recm('The Sound And the Fury',5,book,model,feature)\n",
    "\n"
   ]
  },
  {
   "cell_type": "code",
   "execution_count": 54,
   "metadata": {},
   "outputs": [
    {
     "name": "stdout",
     "output_type": "stream",
     "text": [
      "happy\n"
     ]
    }
   ],
   "source": [
    "ch = '      happy      '\n",
    "print(ch.strip())"
   ]
  },
  {
   "cell_type": "code",
   "execution_count": 39,
   "metadata": {},
   "outputs": [
    {
     "name": "stdout",
     "output_type": "stream",
     "text": [
      "<class 'pandas.core.frame.DataFrame'>\n",
      "Index: 300 entries, 0 to 299\n",
      "Data columns (total 6 columns):\n",
      " #   Column              Non-Null Count  Dtype \n",
      "---  ------              --------------  ----- \n",
      " 0   BOOK ID             300 non-null    int64 \n",
      " 1   NAME OF THE AUTHOR  300 non-null    object\n",
      " 2   NAME OF THE BOOK    300 non-null    object\n",
      " 3   IMAGE URL           300 non-null    object\n",
      " 4   Rating              300 non-null    int32 \n",
      " 5   Price               300 non-null    int32 \n",
      "dtypes: int32(2), int64(1), object(3)\n",
      "memory usage: 22.2+ KB\n"
     ]
    }
   ],
   "source": [
    "b_name = df.iloc[:,:4]\n",
    "for i in range(len(b_name)):\n",
    "    b_name.loc[i,'Rating']=np.random.randint(0,6)\n",
    "    b_name.loc[i,'Price']=np.random.randint(300,1000)\n",
    "b_name['Rating'] = b_name['Rating'].astype(int)\n",
    "b_name['Price'] = b_name['Price'].astype(int)\n",
    "b_name.info()"
   ]
  },
  {
   "cell_type": "code",
   "execution_count": 14,
   "metadata": {},
   "outputs": [
    {
     "data": {
      "text/plain": [
       "['res/BookName']"
      ]
     },
     "execution_count": 14,
     "metadata": {},
     "output_type": "execute_result"
    }
   ],
   "source": [
    "import joblib\n",
    "\n",
    "joblib.dump(book,'res/BookName')\n"
   ]
  }
 ],
 "metadata": {
  "kernelspec": {
   "display_name": "Python 3",
   "language": "python",
   "name": "python3"
  },
  "language_info": {
   "codemirror_mode": {
    "name": "ipython",
    "version": 3
   },
   "file_extension": ".py",
   "mimetype": "text/x-python",
   "name": "python",
   "nbconvert_exporter": "python",
   "pygments_lexer": "ipython3",
   "version": "3.11.1"
  }
 },
 "nbformat": 4,
 "nbformat_minor": 2
}
